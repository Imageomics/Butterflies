{
 "cells": [
  {
   "cell_type": "markdown",
   "metadata": {
    "executionInfo": {
     "elapsed": 8540,
     "status": "ok",
     "timestamp": 1680988960809,
     "user": {
      "displayName": "Michelle Ramirez",
      "userId": "03766069055989060101"
     },
     "user_tz": 240
    },
    "id": "14V2zT4VBYXn",
    "tags": []
   },
   "source": [
    "### Pairwise Euclidean Distance Boxplots"
   ]
  },
  {
   "cell_type": "code",
   "execution_count": 2,
   "metadata": {
    "tags": []
   },
   "outputs": [
    {
     "name": "stdout",
     "output_type": "stream",
     "text": [
      "The autoreload extension is already loaded. To reload it, use:\n",
      "  %reload_ext autoreload\n"
     ]
    }
   ],
   "source": [
    "%load_ext autoreload\n",
    "%autoreload 2"
   ]
  },
  {
   "cell_type": "code",
   "execution_count": 3,
   "metadata": {
    "executionInfo": {
     "elapsed": 6649,
     "status": "ok",
     "timestamp": 1680988973675,
     "user": {
      "displayName": "Michelle Ramirez",
      "userId": "03766069055989060101"
     },
     "user_tz": 240
    },
    "id": "ZzNqWI3kNgaI",
    "tags": []
   },
   "outputs": [
    {
     "name": "stderr",
     "output_type": "stream",
     "text": [
      "/users/PAS2136/ramirez528/.conda/envs/classification_exp_env/lib/python3.8/site-packages/tqdm/auto.py:21: TqdmWarning: IProgress not found. Please update jupyter and ipywidgets. See https://ipywidgets.readthedocs.io/en/stable/user_install.html\n",
      "  from .autonotebook import tqdm as notebook_tqdm\n"
     ]
    }
   ],
   "source": [
    "import os\n",
    "import cv2\n",
    "import numpy as np\n",
    "import pandas as pd\n",
    "from pathlib import Path\n",
    "\n",
    "import torch\n",
    "import torch.nn as nn\n",
    "import torch.nn.functional as F\n",
    "import torch.optim as optim\n",
    "from torch.utils.data import Dataset, DataLoader\n",
    "from tensorboardX import SummaryWriter\n",
    "\n",
    "from sklearn.model_selection import train_test_split\n",
    "\n",
    "import albumentations as albu\n",
    "from albumentations.pytorch.transforms import ToTensorV2\n",
    "\n",
    "from torchvision.models import resnet\n",
    "from tqdm import tqdm \n",
    "import torchvision\n",
    "import torchvision.transforms as T\n",
    "\n",
    "from sklearn.manifold import TSNE\n",
    "from sklearn.decomposition import PCA\n",
    "from matplotlib import cm\n",
    "import matplotlib.patches as mpatches\n",
    "import matplotlib.pyplot as plt\n",
    "import PIL\n",
    "import copy\n",
    "\n",
    "import catalyst.dl as dl\n",
    "from catalyst.contrib.nn import (\n",
    "    ArcFace,\n",
    "    CosFace,\n",
    "    AdaCos,\n",
    "    SubCenterArcFace,\n",
    "    CurricularFace,\n",
    "    ArcMarginProduct,\n",
    ")"
   ]
  },
  {
   "cell_type": "code",
   "execution_count": 4,
   "metadata": {
    "tags": []
   },
   "outputs": [],
   "source": [
    "# gradcam: https://github.com/jacobgil/pytorch-grad-cam\n",
    "from pytorch_grad_cam import GradCAM\n",
    "from pytorch_grad_cam.utils.model_targets import ClassifierOutputTarget\n",
    "from pytorch_grad_cam.utils.image import show_cam_on_image\n",
    "from torchvision.models import resnet50"
   ]
  },
  {
   "cell_type": "code",
   "execution_count": 5,
   "metadata": {
    "tags": []
   },
   "outputs": [
    {
     "name": "stdout",
     "output_type": "stream",
     "text": [
      "Device:  cpu\n"
     ]
    }
   ],
   "source": [
    "use_cuda = torch.cuda.is_available()\n",
    "device = torch.device(\"cuda:0\" if use_cuda else \"cpu\")\n",
    "print(\"Device: \",device)\n",
    "\n",
    "if use_cuda:\n",
    "    print('__CUDNN VERSION:', torch.backends.cudnn.version())\n",
    "    print('__Number CUDA Devices:', torch.cuda.device_count())\n",
    "    print('__CUDA Device Name:',torch.cuda.get_device_name(0))\n",
    "    print('__CUDA Device Total Memory [GB]:',torch.cuda.get_device_properties(0).total_memory/1e9)"
   ]
  },
  {
   "cell_type": "markdown",
   "metadata": {},
   "source": [
    "## Select Acuity and Model"
   ]
  },
  {
   "cell_type": "code",
   "execution_count": 67,
   "metadata": {
    "tags": []
   },
   "outputs": [
    {
     "name": "stdout",
     "output_type": "stream",
     "text": [
      "Acuity:  no_acuity\n",
      "Model:  MelpomeneNet\n"
     ]
    }
   ],
   "source": [
    "## ----- uncomment the name of the dataset you want to work with ------\n",
    "# acuity = 'no_acuity_white_background'\n",
    "acuity = 'no_acuity'\n",
    "# acuity = 'heliconius_male_behavioral_acuity'\n",
    "# acuity = 'heliconius_female_behavioral_acuity'\n",
    "# acuity = 'heliconius_male_morphological_acuity'\n",
    "# acuity = 'heliconius_female_morphological_acuity'\n",
    "# acuity = 'kingfisher_acuity'\n",
    "\n",
    "## ----- uncomment model name ------\n",
    "# model_name = 'RegularSpeciesClassification'\n",
    "# model_name = 'EratoNet' #Done\n",
    "model_name = 'MelpomeneNet' #method works, Done\n",
    "\n",
    "print('Acuity: ', acuity)\n",
    "print('Model: ', model_name)"
   ]
  },
  {
   "cell_type": "code",
   "execution_count": 68,
   "metadata": {
    "tags": []
   },
   "outputs": [
    {
     "name": "stdout",
     "output_type": "stream",
     "text": [
      "MelpomeneNet\n"
     ]
    },
    {
     "data": {
      "text/plain": [
       "10"
      ]
     },
     "execution_count": 68,
     "metadata": {},
     "output_type": "execute_result"
    }
   ],
   "source": [
    "print(model_name)\n",
    "if model_name == 'EratoNet':\n",
    "    erato_net = True\n",
    "    melpomene_net = False\n",
    "    mimic_net = False\n",
    "    n_classes = 10\n",
    "\n",
    "elif model_name == 'MelpomeneNet':\n",
    "    erato_net = False\n",
    "    melpomene_net = True\n",
    "    mimic_net = False\n",
    "    n_classes = 10\n",
    "    \n",
    "elif model_name == 'MimicsNet':\n",
    "    erato_net = False\n",
    "    melpomene_net = False\n",
    "    mimic_net = True\n",
    "    n_classes = 10\n",
    "    \n",
    "elif model_name == 'RegularSpeciesClassification':\n",
    "    erato_net = False\n",
    "    melpomene_net = False\n",
    "    mimic_net = False\n",
    "    n_classes = 20\n",
    "\n",
    "num_classes = n_classes\n",
    "num_classes"
   ]
  },
  {
   "cell_type": "markdown",
   "metadata": {
    "id": "vwr5qLI0XDGo"
   },
   "source": [
    "## Data\n",
    "\n",
    "Get the path to the dataset containing the images we want to work with"
   ]
  },
  {
   "cell_type": "code",
   "execution_count": 69,
   "metadata": {
    "tags": []
   },
   "outputs": [
    {
     "name": "stdout",
     "output_type": "stream",
     "text": [
      "Image Dataset: /fs/ess/PAS2136/Butterfly/Model_Mimic/model_mimic_images_256_256_removed_background_dorsal/\n",
      "Data Split:  /fs/ess/PAS2136/Butterfly/Model_Mimic/Data_Splits/MelpomeneNet/model_mimic_images_256_256_removed_background_dorsal/\n"
     ]
    }
   ],
   "source": [
    "from src.dir_paths.dataset_paths import get_image_dataset_path\n",
    "from src.dir_paths.train_val_test_paths import get_split_csvs\n",
    "\n",
    "#path to images with the applied selected acuity\n",
    "dataset_path = get_image_dataset_path(acuity)\n",
    "\n",
    "#path to train/val/test split csvs \n",
    "main = get_split_csvs(acuity, model_name)\n",
    "\n",
    "print('Image Dataset:', dataset_path)\n",
    "print('Data Split: ', main)"
   ]
  },
  {
   "cell_type": "markdown",
   "metadata": {},
   "source": [
    "## Map species string labels to categorical numerical labels"
   ]
  },
  {
   "cell_type": "code",
   "execution_count": 70,
   "metadata": {
    "id": "6u3o4biP1BPP",
    "tags": []
   },
   "outputs": [],
   "source": [
    "#using the structure of subspecies folders, assign a numerical categorical id to each subspecies\n",
    "# species_list = os.listdir(dataset_path)\n",
    "# species2index = {species:i for i, species in enumerate(species_list)}\n",
    "# index2species = {i:species for i, species in enumerate(species_list)}\n",
    "# display(index2species)\n",
    "\n",
    "index2species = {0: 'Heliconius melpomene ssp. ecuadorensis',\n",
    " 1: 'Heliconius melpomene ssp. nanna',\n",
    " 2: 'Heliconius melpomene ssp. rosina',\n",
    " 3: 'Heliconius erato ssp. phyllis',\n",
    " 4: 'Heliconius erato ssp. dignus',\n",
    " 5: 'Heliconius melpomene ssp. bellula',\n",
    " 6: 'Heliconius erato ssp. lativitta',\n",
    " 7: 'Heliconius melpomene ssp. vulcanus',\n",
    " 8: 'Heliconius erato ssp. etylus',\n",
    " 9: 'Heliconius melpomene ssp. plesseni',\n",
    " 10: 'Heliconius melpomene ssp. malleti',\n",
    " 11: 'Heliconius erato ssp. cyrbia',\n",
    " 12: 'Heliconius erato ssp. amalfreda',\n",
    " 13: 'Heliconius erato ssp. venus',\n",
    " 14: 'Heliconius erato ssp. hydara',\n",
    " 15: 'Heliconius melpomene ssp. meriana', \n",
    " 16: 'Heliconius erato ssp. petiverana',\n",
    " 17: 'Heliconius melpomene ssp. cythera',\n",
    " 18: 'Heliconius erato ssp. notabilis',\n",
    " 19: 'Heliconius melpomene ssp. melpomene'}\n",
    "\n",
    "species2index = {v:k for k,v in index2species.items()}\n",
    "\n",
    "comimic_dict = {\"Heliconius melpomene ssp. malleti\": \"Heliconius erato ssp. lativitta\",\n",
    "                \"Heliconius melpomene ssp. melpomene\": \"Heliconius erato ssp. hydara\", \n",
    "                \"Heliconius melpomene ssp. plesseni\": \"Heliconius erato ssp. notabilis\",\n",
    "                \"Heliconius melpomene ssp. vulcanus\": \"Heliconius erato ssp. venus\",\n",
    "                \"Heliconius melpomene ssp. rosina\": \"Heliconius erato ssp. petiverana\",\n",
    "                \"Heliconius melpomene ssp. cythera\": \"Heliconius erato ssp. cyrbia\", \n",
    "                \"Heliconius melpomene ssp. nanna\": \"Heliconius erato ssp. phyllis\",\n",
    "                \"Heliconius melpomene ssp. bellula\": \"Heliconius erato ssp. dignus\",\n",
    "                \"Heliconius melpomene ssp. ecuadorensis\": \"Heliconius erato ssp. etylus\", \n",
    "                \"Heliconius melpomene ssp. meriana\": \"Heliconius erato ssp. amalfreda\"}\n",
    "\n",
    "index2species_erato = {\n",
    "0: 'Heliconius erato ssp. phyllis',\n",
    "1: 'Heliconius erato ssp. dignus',\n",
    "2: 'Heliconius erato ssp. lativitta',\n",
    "3: 'Heliconius erato ssp. etylus',\n",
    "4: 'Heliconius erato ssp. cyrbia',\n",
    "5: 'Heliconius erato ssp. amalfreda', #meriana is the melpomene mimic\n",
    "6: 'Heliconius erato ssp. venus',\n",
    "7: 'Heliconius erato ssp. hydara',\n",
    "8: 'Heliconius erato ssp. petiverana',\n",
    "9: 'Heliconius erato ssp. notabilis'}\n",
    "\n",
    "index2species_melpomene = {\n",
    "0: 'Heliconius melpomene ssp. nanna',\n",
    "1: 'Heliconius melpomene ssp. bellula',\n",
    "2: 'Heliconius melpomene ssp. malleti',\n",
    "3: 'Heliconius melpomene ssp. ecuadorensis',\n",
    "4: 'Heliconius melpomene ssp. cythera',\n",
    "5: 'Heliconius melpomene ssp. meriana', #Missing from index2species in dorsal images\n",
    "6: 'Heliconius melpomene ssp. vulcanus',\n",
    "7: 'Heliconius melpomene ssp. melpomene',\n",
    "8: 'Heliconius melpomene ssp. rosina',\n",
    "9: 'Heliconius melpomene ssp. plesseni',\n",
    "}\n",
    "\n",
    "index2species_mimics = {\n",
    "     0:'mimic_0',\n",
    "     1:'mimic_1',\n",
    "     2:'mimic_2',\n",
    "     3:'mimic_3',\n",
    "     4:'mimic_4',\n",
    "     5:'mimic_5',\n",
    "     6:'mimic_6',\n",
    "     7:'mimic_7',\n",
    "     8:'mimic_8',\n",
    "     9:'mimic_9'\n",
    "\n",
    "}\n",
    "\n",
    "#indices in the dictionaries above are assigned such that the mimic pair will share the same numerical label\n",
    "\n",
    "species2index_erato = {v:k for k,v in index2species_erato.items()}\n",
    "species2index_melpomene = {v:k for k,v in index2species_melpomene.items()}\n",
    "\n",
    "species2index_mimics = copy.deepcopy(species2index_erato)\n",
    "species2index_mimics.update(species2index_melpomene)"
   ]
  },
  {
   "cell_type": "markdown",
   "metadata": {},
   "source": [
    "## Read Train/Val/Test Splits"
   ]
  },
  {
   "cell_type": "code",
   "execution_count": 71,
   "metadata": {
    "tags": []
   },
   "outputs": [
    {
     "name": "stdout",
     "output_type": "stream",
     "text": [
      "(1022, 2)\n",
      "(142, 2)\n",
      "(2402, 2)\n",
      "(256, 2)\n"
     ]
    }
   ],
   "source": [
    "if mimic_net or model_name == 'RegularSpeciesClassification':\n",
    "    train_df = pd.read_csv(main + 'train.csv')\n",
    "    val_df = pd.read_csv(main + 'val.csv')\n",
    "    test_df = pd.read_csv(main + 'test.csv')\n",
    "\n",
    "    print(train_df.shape) ##2751, 2\n",
    "    print(val_df.shape) #306, 2\n",
    "    print(test_df.shape) #765, 2\n",
    "\n",
    "elif erato_net or melpomene_net:\n",
    "    train_df = pd.read_csv(main + 'train.csv')\n",
    "    val_df = pd.read_csv(main + 'val.csv')\n",
    "    test_df_erato = pd.read_csv(main + 'test_erato.csv')\n",
    "    test_df_melpomene = pd.read_csv(main + 'test_melpomene.csv')\n",
    "\n",
    "    print(train_df.shape)\n",
    "    print(val_df.shape) \n",
    "    print(test_df_erato.shape)\n",
    "    print(test_df_melpomene.shape) \n",
    "\n",
    "#Regular and mimics\n",
    "# (2751, 2)\n",
    "# (306, 2)\n",
    "# (765, 2)\n",
    "\n",
    "#EratoNet (no acuity)\n",
    "# (1728, 2)\n",
    "# (241, 2)\n",
    "# (433, 2)\n",
    "# (1420, 2)\n",
    "\n",
    "#MelpomeneNet (no acuity)\n",
    "# (1022, 2)\n",
    "# (142, 2)\n",
    "# (2402, 2)\n",
    "# (256, 2)\n",
    "\n",
    "#2402 total erato vs 1420 total melpomene"
   ]
  },
  {
   "cell_type": "code",
   "execution_count": 72,
   "metadata": {},
   "outputs": [
    {
     "data": {
      "text/plain": [
       "3822"
      ]
     },
     "execution_count": 72,
     "metadata": {},
     "output_type": "execute_result"
    }
   ],
   "source": [
    "#making sure data splits for kingfisher add up to 3814 instead of 3822 due to errors with AcuityView processing\n",
    "1724 + 239 + 433 + 1418 #3814 (8 missing from full 3822 images)\n",
    "2747 + 305 + 762 #3814\n",
    "1020 + 142 + 2396 + 256 #3814\n",
    "2751 + 306 + 765"
   ]
  },
  {
   "cell_type": "markdown",
   "metadata": {},
   "source": [
    "## Encode Labels for Model"
   ]
  },
  {
   "cell_type": "code",
   "execution_count": 73,
   "metadata": {
    "tags": []
   },
   "outputs": [
    {
     "name": "stdout",
     "output_type": "stream",
     "text": [
      "MelpomeneNet\n",
      "Number of train samples - 1022\n",
      "Number of valid samples - 142\n",
      "Number of test melpomene samples -  256\n",
      "Number of test erato samples -  2402\n"
     ]
    },
    {
     "data": {
      "text/plain": [
       "{'train': <torch.utils.data.dataloader.DataLoader at 0x2baad93c6fa0>,\n",
       " 'valid': <torch.utils.data.dataloader.DataLoader at 0x2baad93cb580>,\n",
       " 'test': <torch.utils.data.dataloader.DataLoader at 0x2baad93cbac0>}"
      ]
     },
     "execution_count": 73,
     "metadata": {},
     "output_type": "execute_result"
    }
   ],
   "source": [
    "from src.dataloader import read_image, read_sized_image, get_transforms, get_loader\n",
    "\n",
    "if main.split('/')[7] == \"MimicsNet\":\n",
    "    #create lists of image filepaths and their labels for each split\n",
    "    train_images = list(train_df['path'])\n",
    "    valid_images = list(val_df['path'])\n",
    "    test_images = list(test_df['path'])\n",
    "\n",
    "    #keep a list of the original string labels\n",
    "    print('Using MimicsNet Labels')\n",
    "    train_targets_ss = list(train_df['label'])\n",
    "    valid_targets_ss = list(val_df['label'])\n",
    "    test_targets_ss = list(test_df['label'])\n",
    "    \n",
    "    #encode string subspecies labels --> numbers in a way that mimics share the same label\n",
    "    train_targets = [species2index_mimics[str(elem).split(\"/\")[7]] for elem in train_images]\n",
    "    valid_targets = [species2index_mimics[str(elem).split(\"/\")[7]] for elem in valid_images]\n",
    "    test_targets = [species2index_mimics[str(elem).split(\"/\")[7]] for elem in test_images]\n",
    "    \n",
    "elif main.split('/')[7] == \"EratoNet\":\n",
    "    print('EratoNet')\n",
    "    train_images = list(train_df['path'])\n",
    "    valid_images = list(val_df['path'])\n",
    "    test_images_erato = list(test_df_erato['path'])\n",
    "    test_images_melpomene = list(test_df_melpomene['path'])\n",
    "\n",
    "    train_targets = [species2index_erato[str(elem).split(\"/\")[7]] for elem in train_images]\n",
    "    valid_targets = [species2index_erato[str(elem).split(\"/\")[7]] for elem in valid_images]\n",
    "    test_targets_erato = [species2index_erato[str(elem).split(\"/\")[7]] for elem in test_images_erato]\n",
    "    test_targets_melpomene = [species2index_melpomene[str(elem).split(\"/\")[7]] for elem in test_images_melpomene]\n",
    "    test_targets_melpomene_actual = [str(elem).split(\"/\")[7] for elem in test_images_melpomene] #so that we have the true melpomene label encodings for each image\n",
    "\n",
    "    print(\"Number of train samples -\", len(train_images))\n",
    "    print(\"Number of valid samples -\", len(valid_images))\n",
    "    print(\"Number of test erato samples - \",len(test_images_erato))\n",
    "    print(\"Number of test melpomene samples - \",len(test_images_melpomene))\n",
    "\n",
    "elif main.split('/')[7] == \"MelpomeneNet\":\n",
    "    print('MelpomeneNet')\n",
    "    train_images = list(train_df['path'])\n",
    "    valid_images = list(val_df['path'])\n",
    "    test_images_erato = list(test_df_erato['path'])\n",
    "    test_images_melpomene = list(test_df_melpomene['path'])\n",
    "\n",
    "    train_targets = [species2index_melpomene[str(elem).split(\"/\")[7]] for elem in train_images]\n",
    "    valid_targets = [species2index_melpomene[str(elem).split(\"/\")[7]] for elem in valid_images]\n",
    "    test_targets_melpomene = [species2index_melpomene[str(elem).split(\"/\")[7]] for elem in test_images_melpomene]\n",
    "    test_targets_erato = [species2index_erato[str(elem).split(\"/\")[7]] for elem in test_images_erato]\n",
    "    test_targets_erato_actual = [str(elem).split(\"/\")[7] for elem in test_images_erato] #so that we have the true erato label encodings for each image\n",
    "\n",
    "    print(\"Number of train samples -\", len(train_images))\n",
    "    print(\"Number of valid samples -\", len(valid_images))\n",
    "    print(\"Number of test melpomene samples - \",len(test_images_melpomene))\n",
    "    print(\"Number of test erato samples - \",len(test_images_erato))\n",
    "\n",
    "else:\n",
    "    #regular species classification\n",
    "    train_images = list(train_df['path'])\n",
    "    valid_images = list(val_df['path'])\n",
    "    test_images = list(test_df['path'])\n",
    "\n",
    "    train_targets = [species2index[str(elem).split(\"/\")[7]] for elem in train_images]\n",
    "    valid_targets = [species2index[str(elem).split(\"/\")[7]] for elem in valid_images]\n",
    "    test_targets = [species2index[str(elem).split(\"/\")[7]] for elem in test_images]\n",
    "\n",
    "    print(\"Number of train samples -\", len(train_images))\n",
    "    print(\"Number of valid samples -\", len(valid_images))\n",
    "    print(\"Number of test samples - \",len(test_images))\n",
    "\n",
    "#create dataloaders for each split of data\n",
    "batch = 32\n",
    "train_dataset, train_loader = get_loader(\"train\", train_images, train_targets, batch_size=batch, num_workers=1)\n",
    "valid_dataset, valid_loader = get_loader(\"valid\", valid_images, valid_targets, batch_size=batch, num_workers=1)\n",
    "\n",
    "if erato_net or melpomene_net:\n",
    "    test_dataset_erato, test_loader_erato, = get_loader(\"test\", test_images_erato, test_targets_erato, batch_size=batch, num_workers=1)\n",
    "    test_dataset_melpomene, test_loader_melpomene, = get_loader(\"test\", test_images_melpomene, test_targets_melpomene, batch_size=batch, num_workers=1)\n",
    "    \n",
    "    #create dictionary with each of our dataloaders\n",
    "    #only include the ID loader --> leave out the mimic loader for now. We'll work with that one independently\n",
    "    loaders = { \"train\": train_loader,\n",
    "            \"valid\": valid_loader,\n",
    "            \"test\": test_loader_erato if erato_net else test_loader_melpomene\n",
    "            }\n",
    "\n",
    "else:\n",
    "    test_dataset, test_loader, = get_loader(\"test\", test_images, test_targets, batch_size=batch, num_workers=1)\n",
    "    #create dictionary with each of our dataloaders\n",
    "    loaders = { \"train\": train_loader,\n",
    "            \"valid\": valid_loader,\n",
    "            \"test\": test_loader\n",
    "            }\n",
    "\n",
    "loaders"
   ]
  },
  {
   "cell_type": "markdown",
   "metadata": {
    "tags": []
   },
   "source": [
    "## Load Model \n",
    "\n",
    "Load model from saved checkpoints if training has already been completed"
   ]
  },
  {
   "cell_type": "code",
   "execution_count": 74,
   "metadata": {
    "executionInfo": {
     "elapsed": 312,
     "status": "ok",
     "timestamp": 1680992311419,
     "user": {
      "displayName": "Michelle Ramirez",
      "userId": "03766069055989060101"
     },
     "user_tz": 240
    },
    "id": "81CiOhQt1BPT",
    "tags": []
   },
   "outputs": [
    {
     "name": "stdout",
     "output_type": "stream",
     "text": [
      "Model Ckpt: /fs/ess/PAS2136/Butterfly/Model_Mimic/resnet_arcface_logs/MelpomeneNet/model_mimic_images_256_256_removed_background_dorsal/checkpoints/classification_ckpt.pth\n",
      "Num Classes:  10\n"
     ]
    }
   ],
   "source": [
    "from src.utils import load_model\n",
    "from src.dir_paths.model_log_paths import get_logdir\n",
    "from src.model import ResNetEncoder, EncoderWithHead\n",
    "\n",
    "model_path = get_logdir(acuity, model_name) + '/checkpoints/classification_ckpt.pth'\n",
    "\n",
    "#load in model with weights\n",
    "num_classes = n_classes #20 (0r 10 if mimicsnet, eratonet, melpomene net)\n",
    "\n",
    "encoder = ResNetEncoder(\"resnet50\", 128)\n",
    "model   = EncoderWithHead(encoder,\n",
    "                          ArcFace(128, n_classes, s=2**0.5*np.log(n_classes - 1), m=0.25))\n",
    "\n",
    "model = load_model(model, model_path, device)\n",
    "encoder = model.encoder\n",
    "device = 'cpu'\n",
    "\n",
    "print('Model Ckpt:', model_path)\n",
    "print('Num Classes: ', num_classes)"
   ]
  },
  {
   "cell_type": "markdown",
   "metadata": {
    "tags": []
   },
   "source": [
    "## BoxPlots"
   ]
  },
  {
   "cell_type": "code",
   "execution_count": 75,
   "metadata": {
    "tags": []
   },
   "outputs": [
    {
     "name": "stdout",
     "output_type": "stream",
     "text": [
      "/fs/ess/PAS2136/Butterfly/Model_Mimic/resnet50_arcface_embeddings/MelpomeneNet/model_mimic_images_256_256_removed_background_dorsal/train_val_test_split/embeddings/00000/default/tensors.tsv\n",
      "/fs/ess/PAS2136/Butterfly/Model_Mimic/resnet50_arcface_embeddings/MelpomeneNet/model_mimic_images_256_256_removed_background_dorsal/train_val_test_split/embeddings/00000/default/metadata.tsv\n"
     ]
    }
   ],
   "source": [
    "from src.dir_paths.embedding_paths import get_embedding_paths\n",
    "save_embeddings_dir = get_embedding_paths(acuity, model_name)\n",
    "\n",
    "# or should we limit to just the test splits?\n",
    "# the `all` category \n",
    "save_embeddings_dir_all = save_embeddings_dir['all']\n",
    "tensors_all = save_embeddings_dir_all + '/embeddings/00000/default/tensors.tsv'\n",
    "metadata_all = save_embeddings_dir_all + '/embeddings/00000/default/metadata.tsv'\n",
    "\n",
    "print(tensors_all)\n",
    "print(metadata_all)"
   ]
  },
  {
   "cell_type": "code",
   "execution_count": 76,
   "metadata": {
    "tags": []
   },
   "outputs": [
    {
     "name": "stdout",
     "output_type": "stream",
     "text": [
      "MelpomeneNet\n"
     ]
    }
   ],
   "source": [
    "print(model_name)\n",
    "\n",
    "#use the train_val_test_split folders containing both training and testing embeddings to include both erato and melpomene\n",
    "normal_tensors = f'/fs/ess/PAS2136/Butterfly/Model_Mimic/resnet50_arcface_embeddings/{model_name}/model_mimic_images_256_256_removed_background_dorsal/train_val_test_split/embeddings/00000/default/tensors.tsv'\n",
    "normal_metadata = f'/fs/ess/PAS2136/Butterfly/Model_Mimic/resnet50_arcface_embeddings/{model_name}/model_mimic_images_256_256_removed_background_dorsal/train_val_test_split/embeddings/00000/default/metadata.tsv'\n",
    "\n",
    "heliconius_male_behavioral_tensors = f'/fs/ess/PAS2136/Butterfly/Model_Mimic/resnet50_arcface_embeddings/{model_name}/model_mimic_images_256_256_removed_background_heliconius_male_behavioral_acuity_dorsal/train_val_test_split/embeddings/00000/default/tensors.tsv'\n",
    "heliconius_male_behavioral_metadata = f'/fs/ess/PAS2136/Butterfly/Model_Mimic/resnet50_arcface_embeddings/{model_name}/model_mimic_images_256_256_removed_background_heliconius_male_behavioral_acuity_dorsal/train_val_test_split/embeddings/00000/default/metadata.tsv'\n",
    "\n",
    "heliconius_female_behavioral_tensors = f'/fs/ess/PAS2136/Butterfly/Model_Mimic/resnet50_arcface_embeddings/{model_name}/model_mimic_images_256_256_removed_background_heliconius_female_behavioral_acuity_dorsal/train_val_test_split/embeddings/00000/default/tensors.tsv'\n",
    "heliconius_female_behavioral_metadata = f'/fs/ess/PAS2136/Butterfly/Model_Mimic/resnet50_arcface_embeddings/{model_name}/model_mimic_images_256_256_removed_background_heliconius_female_behavioral_acuity_dorsal/train_val_test_split/embeddings/00000/default/metadata.tsv'\n",
    "\n",
    "heliconius_male_morphological_tensors = f'/fs/ess/PAS2136/Butterfly/Model_Mimic/resnet50_arcface_embeddings/{model_name}/model_mimic_images_256_256_removed_background_heliconius_male_morphological_acuity_dorsal/train_val_test_split/embeddings/00000/default/tensors.tsv'\n",
    "heliconius_male_morphological_metadata = f'/fs/ess/PAS2136/Butterfly/Model_Mimic/resnet50_arcface_embeddings/{model_name}/model_mimic_images_256_256_removed_background_heliconius_male_morphological_acuity_dorsal/train_val_test_split/embeddings/00000/default/metadata.tsv'\n",
    "\n",
    "heliconius_female_morphological_tensors = f'/fs/ess/PAS2136/Butterfly/Model_Mimic/resnet50_arcface_embeddings/{model_name}/model_mimic_images_256_256_removed_background_heliconius_female_morphological_acuity_dorsal/train_val_test_split/embeddings/00000/default/tensors.tsv'\n",
    "heliconius_female_morphological_metadata = f'/fs/ess/PAS2136/Butterfly/Model_Mimic/resnet50_arcface_embeddings/{model_name}/model_mimic_images_256_256_removed_background_heliconius_female_morphological_acuity_dorsal/train_val_test_split/embeddings/00000/default/metadata.tsv'\n",
    "\n",
    "kingfisher_tensors = f'/fs/ess/PAS2136/Butterfly/Model_Mimic/resnet50_arcface_embeddings/{model_name}/model_mimic_images_256_256_removed_background_kingfisher_acuity_dorsal/train_val_test_split/embeddings/00000/default/tensors.tsv'\n",
    "kingfisher_metadata = f'/fs/ess/PAS2136/Butterfly/Model_Mimic/resnet50_arcface_embeddings/{model_name}/model_mimic_images_256_256_removed_background_kingfisher_acuity_dorsal/train_val_test_split/embeddings/00000/default/metadata.tsv'\n"
   ]
  },
  {
   "cell_type": "code",
   "execution_count": 77,
   "metadata": {
    "tags": []
   },
   "outputs": [
    {
     "data": {
      "text/plain": [
       "3814"
      ]
     },
     "execution_count": 77,
     "metadata": {},
     "output_type": "execute_result"
    }
   ],
   "source": [
    "#load in embedding tensors and labels into a dictionary where we have {'kingfisher': [kingfishesr embeddings], ...}\n",
    "from src.utils import load_tsv\n",
    "names = ['no_acuity', \n",
    "         'heliconius_male_behavioral', \n",
    "         'heliconius_female_behavioral', \n",
    "         'heliconius_male_morphological', \n",
    "         'heliconius_female_morphological',\n",
    "         'kingfisher'\n",
    "        ]\n",
    "\n",
    "tensors = [normal_tensors,\n",
    "           heliconius_male_behavioral_tensors, \n",
    "           heliconius_female_behavioral_tensors, \n",
    "           heliconius_male_morphological_tensors, \n",
    "           heliconius_female_morphological_tensors,\n",
    "           kingfisher_tensors\n",
    "          ]\n",
    "\n",
    "labels = [normal_metadata,\n",
    "          heliconius_male_behavioral_metadata,\n",
    "          heliconius_female_behavioral_metadata,\n",
    "          heliconius_male_morphological_metadata,\n",
    "          heliconius_female_morphological_metadata,\n",
    "          kingfisher_metadata\n",
    "         ]\n",
    "\n",
    "all_embeddings = dict()\n",
    "all_labels = dict()\n",
    "\n",
    "# # isolate kingfisher just for a quick sanity check\n",
    "# embeddings = load_tsv(kingfisher_tensors)\n",
    "# labels = load_tsv(kingfisher_metadata)\n",
    "# labels = np.concatenate(labels)\n",
    "# all_embeddings['kingfisher'] = embeddings\n",
    "# all_labels['kingfisher'] = labels\n",
    "\n",
    "\n",
    "# create dictionary of embeddings and labels\n",
    "for n, (t, l) in zip(names, zip(tensors, labels)):\n",
    "    embeddings = load_tsv(t)\n",
    "    labels = load_tsv(l)\n",
    "    labels = np.concatenate(labels)\n",
    "\n",
    "    all_embeddings[n] = embeddings\n",
    "    all_labels[n] = labels\n",
    "\n",
    "\n",
    "len(all_embeddings['kingfisher']) #3814"
   ]
  },
  {
   "cell_type": "code",
   "execution_count": 78,
   "metadata": {},
   "outputs": [
    {
     "data": {
      "text/plain": [
       "3822"
      ]
     },
     "execution_count": 78,
     "metadata": {},
     "output_type": "execute_result"
    }
   ],
   "source": [
    "len(all_embeddings['no_acuity'])"
   ]
  },
  {
   "cell_type": "code",
   "execution_count": 79,
   "metadata": {
    "tags": []
   },
   "outputs": [],
   "source": [
    "from src.boxplot import get_boxplot_separate\n",
    "def tovar(x):\n",
    "    return Variable(torch.FloatTensor(x).cuda(), requires_grad = False)\n",
    "\n",
    "#create dict with melpomene --> erato mimic mappings\n",
    "comimic_dict = {\"Heliconius melpomene ssp. malleti\": \"Heliconius erato ssp. lativitta\",\n",
    "                \"Heliconius melpomene ssp. melpomene\": \"Heliconius erato ssp. hydara\", \n",
    "                \"Heliconius melpomene ssp. plesseni\": \"Heliconius erato ssp. notabilis\",\n",
    "                \"Heliconius melpomene ssp. vulcanus\": \"Heliconius erato ssp. venus\",\n",
    "                \"Heliconius melpomene ssp. rosina\": \"Heliconius erato ssp. petiverana\",\n",
    "                \"Heliconius melpomene ssp. cythera\": \"Heliconius erato ssp. cyrbia\", \n",
    "                \"Heliconius melpomene ssp. nanna\": \"Heliconius erato ssp. phyllis\",\n",
    "                \"Heliconius melpomene ssp. bellula\": \"Heliconius erato ssp. dignus\",\n",
    "                \"Heliconius melpomene ssp. ecuadorensis\": \"Heliconius erato ssp. etylus\", \n",
    "                \"Heliconius melpomene ssp. meriana\": \"Heliconius erato ssp. amalfreda\"}\n",
    "\n",
    "#add erato --> melpomene mimic mappings\n",
    "inv_comimic_dict = {v:k for k,v in comimic_dict.items()}\n",
    "comimic_dict.update(inv_comimic_dict)\n",
    "\n",
    "melpomene_list = list(comimic_dict.keys())  \n",
    "erato_list = list(comimic_dict.values())"
   ]
  },
  {
   "cell_type": "code",
   "execution_count": 80,
   "metadata": {
    "tags": []
   },
   "outputs": [
    {
     "name": "stdout",
     "output_type": "stream",
     "text": [
      "no_acuity\n"
     ]
    },
    {
     "name": "stdout",
     "output_type": "stream",
     "text": [
      "heliconius_male_behavioral\n",
      "heliconius_female_behavioral\n",
      "heliconius_male_morphological\n",
      "heliconius_female_morphological\n",
      "kingfisher\n"
     ]
    },
    {
     "data": {
      "image/png": "[encoded data removed]",
      "text/plain": [
       "<Figure size 4320x1440 with 6 Axes>"
      ]
     },
     "metadata": {
      "needs_background": "light"
     },
     "output_type": "display_data"
    }
   ],
   "source": [
    "fig, axs = plt.subplots(nrows=1, ncols=6, figsize=(60, 20))\n",
    "fig.suptitle(f\"{model_name} Embedding Distances, All Embeddings\", fontsize=35)\n",
    "\n",
    "dfs = []\n",
    "col = 0\n",
    "for n, (test_embeddings, test_labels) in zip(names, zip(all_embeddings.values(), all_labels.values())):\n",
    "# for n, (test_embeddings, test_labels) in zip([names[-1]], zip(all_embeddings.values(), all_labels.values())): #sanity check for kingfisher\n",
    "    # Create species_embeddings dictionary where are embeddings belonging to \n",
    "    # one subspecies are appended together in a list as the values.\n",
    "    # Ex: species_embeddings = {ss: [[embedding1], [embedding2], etc.]}\n",
    "    print(n)\n",
    "    species_embeddings = dict()\n",
    "    for ss in np.unique(test_labels):\n",
    "        species_embeddings[ss] = []\n",
    "\n",
    "    for embedding, label in zip(test_embeddings, test_labels):\n",
    "        species_embeddings[label].append(embedding)\n",
    "\n",
    "    # calculate the pairwise euclidean distances for each acuity and create boxplot\n",
    "    df = get_boxplot_separate(species_embeddings, erato_list, melpomene_list, acuity=n, ax=axs[col])\n",
    "    dfs.append(df)\n",
    "    axs[col].set_title(f'{n}', fontsize=30)\n",
    "    col += 1\n",
    "\n",
    "boxplot_df = pd.concat(dfs, ignore_index=True)"
   ]
  },
  {
   "cell_type": "code",
   "execution_count": 81,
   "metadata": {},
   "outputs": [
    {
     "data": {
      "text/html": [
       "<div>\n",
       "<style scoped>\n",
       "    .dataframe tbody tr th:only-of-type {\n",
       "        vertical-align: middle;\n",
       "    }\n",
       "\n",
       "    .dataframe tbody tr th {\n",
       "        vertical-align: top;\n",
       "    }\n",
       "\n",
       "    .dataframe thead th {\n",
       "        text-align: right;\n",
       "    }\n",
       "</style>\n",
       "<table border=\"1\" class=\"dataframe\">\n",
       "  <thead>\n",
       "    <tr style=\"text-align: right;\">\n",
       "      <th></th>\n",
       "      <th>label</th>\n",
       "      <th>lower_whisker</th>\n",
       "      <th>lower_quartile</th>\n",
       "      <th>median</th>\n",
       "      <th>upper_quartile</th>\n",
       "      <th>upper_whisker</th>\n",
       "      <th>acuity</th>\n",
       "    </tr>\n",
       "  </thead>\n",
       "  <tbody>\n",
       "    <tr>\n",
       "      <th>0</th>\n",
       "      <td>identity erato</td>\n",
       "      <td>0.058335</td>\n",
       "      <td>0.159964</td>\n",
       "      <td>0.221770</td>\n",
       "      <td>0.315713</td>\n",
       "      <td>0.549336</td>\n",
       "      <td>no_acuity</td>\n",
       "    </tr>\n",
       "    <tr>\n",
       "      <th>1</th>\n",
       "      <td>identity melpomene</td>\n",
       "      <td>0.058335</td>\n",
       "      <td>0.159964</td>\n",
       "      <td>0.221770</td>\n",
       "      <td>0.315713</td>\n",
       "      <td>0.549336</td>\n",
       "      <td>no_acuity</td>\n",
       "    </tr>\n",
       "    <tr>\n",
       "      <th>2</th>\n",
       "      <td>mimic</td>\n",
       "      <td>0.074007</td>\n",
       "      <td>0.162489</td>\n",
       "      <td>0.216954</td>\n",
       "      <td>0.305042</td>\n",
       "      <td>0.518869</td>\n",
       "      <td>no_acuity</td>\n",
       "    </tr>\n",
       "    <tr>\n",
       "      <th>3</th>\n",
       "      <td>other erato</td>\n",
       "      <td>1.401236</td>\n",
       "      <td>1.496304</td>\n",
       "      <td>1.532930</td>\n",
       "      <td>1.559682</td>\n",
       "      <td>1.654749</td>\n",
       "      <td>no_acuity</td>\n",
       "    </tr>\n",
       "    <tr>\n",
       "      <th>4</th>\n",
       "      <td>other melpomene</td>\n",
       "      <td>1.401236</td>\n",
       "      <td>1.496304</td>\n",
       "      <td>1.532930</td>\n",
       "      <td>1.559682</td>\n",
       "      <td>1.654749</td>\n",
       "      <td>no_acuity</td>\n",
       "    </tr>\n",
       "    <tr>\n",
       "      <th>5</th>\n",
       "      <td>identity erato</td>\n",
       "      <td>0.034845</td>\n",
       "      <td>0.110745</td>\n",
       "      <td>0.137936</td>\n",
       "      <td>0.182467</td>\n",
       "      <td>0.290050</td>\n",
       "      <td>heliconius_male_behavioral</td>\n",
       "    </tr>\n",
       "    <tr>\n",
       "      <th>6</th>\n",
       "      <td>identity melpomene</td>\n",
       "      <td>0.034845</td>\n",
       "      <td>0.110745</td>\n",
       "      <td>0.137936</td>\n",
       "      <td>0.182467</td>\n",
       "      <td>0.290050</td>\n",
       "      <td>heliconius_male_behavioral</td>\n",
       "    </tr>\n",
       "    <tr>\n",
       "      <th>7</th>\n",
       "      <td>mimic</td>\n",
       "      <td>0.048258</td>\n",
       "      <td>0.110546</td>\n",
       "      <td>0.134477</td>\n",
       "      <td>0.176905</td>\n",
       "      <td>0.276444</td>\n",
       "      <td>heliconius_male_behavioral</td>\n",
       "    </tr>\n",
       "    <tr>\n",
       "      <th>8</th>\n",
       "      <td>other erato</td>\n",
       "      <td>1.416169</td>\n",
       "      <td>1.496803</td>\n",
       "      <td>1.527394</td>\n",
       "      <td>1.550559</td>\n",
       "      <td>1.631191</td>\n",
       "      <td>heliconius_male_behavioral</td>\n",
       "    </tr>\n",
       "    <tr>\n",
       "      <th>9</th>\n",
       "      <td>other melpomene</td>\n",
       "      <td>1.416169</td>\n",
       "      <td>1.496803</td>\n",
       "      <td>1.527394</td>\n",
       "      <td>1.550559</td>\n",
       "      <td>1.631191</td>\n",
       "      <td>heliconius_male_behavioral</td>\n",
       "    </tr>\n",
       "    <tr>\n",
       "      <th>10</th>\n",
       "      <td>identity erato</td>\n",
       "      <td>0.060407</td>\n",
       "      <td>0.138074</td>\n",
       "      <td>0.165232</td>\n",
       "      <td>0.211462</td>\n",
       "      <td>0.321542</td>\n",
       "      <td>heliconius_female_behavioral</td>\n",
       "    </tr>\n",
       "    <tr>\n",
       "      <th>11</th>\n",
       "      <td>identity melpomene</td>\n",
       "      <td>0.060407</td>\n",
       "      <td>0.138074</td>\n",
       "      <td>0.165232</td>\n",
       "      <td>0.211462</td>\n",
       "      <td>0.321542</td>\n",
       "      <td>heliconius_female_behavioral</td>\n",
       "    </tr>\n",
       "    <tr>\n",
       "      <th>12</th>\n",
       "      <td>mimic</td>\n",
       "      <td>0.069257</td>\n",
       "      <td>0.142028</td>\n",
       "      <td>0.167028</td>\n",
       "      <td>0.212258</td>\n",
       "      <td>0.317602</td>\n",
       "      <td>heliconius_female_behavioral</td>\n",
       "    </tr>\n",
       "    <tr>\n",
       "      <th>13</th>\n",
       "      <td>other erato</td>\n",
       "      <td>1.405744</td>\n",
       "      <td>1.485271</td>\n",
       "      <td>1.513025</td>\n",
       "      <td>1.538289</td>\n",
       "      <td>1.617816</td>\n",
       "      <td>heliconius_female_behavioral</td>\n",
       "    </tr>\n",
       "    <tr>\n",
       "      <th>14</th>\n",
       "      <td>other melpomene</td>\n",
       "      <td>1.405744</td>\n",
       "      <td>1.485271</td>\n",
       "      <td>1.513025</td>\n",
       "      <td>1.538289</td>\n",
       "      <td>1.617816</td>\n",
       "      <td>heliconius_female_behavioral</td>\n",
       "    </tr>\n",
       "    <tr>\n",
       "      <th>15</th>\n",
       "      <td>identity erato</td>\n",
       "      <td>0.060134</td>\n",
       "      <td>0.146100</td>\n",
       "      <td>0.173144</td>\n",
       "      <td>0.222220</td>\n",
       "      <td>0.336401</td>\n",
       "      <td>heliconius_male_morphological</td>\n",
       "    </tr>\n",
       "    <tr>\n",
       "      <th>16</th>\n",
       "      <td>identity melpomene</td>\n",
       "      <td>0.060134</td>\n",
       "      <td>0.146100</td>\n",
       "      <td>0.173144</td>\n",
       "      <td>0.222220</td>\n",
       "      <td>0.336401</td>\n",
       "      <td>heliconius_male_morphological</td>\n",
       "    </tr>\n",
       "    <tr>\n",
       "      <th>17</th>\n",
       "      <td>mimic</td>\n",
       "      <td>0.074803</td>\n",
       "      <td>0.148378</td>\n",
       "      <td>0.174365</td>\n",
       "      <td>0.225719</td>\n",
       "      <td>0.341729</td>\n",
       "      <td>heliconius_male_morphological</td>\n",
       "    </tr>\n",
       "    <tr>\n",
       "      <th>18</th>\n",
       "      <td>other erato</td>\n",
       "      <td>1.382655</td>\n",
       "      <td>1.478513</td>\n",
       "      <td>1.511459</td>\n",
       "      <td>1.542419</td>\n",
       "      <td>1.638277</td>\n",
       "      <td>heliconius_male_morphological</td>\n",
       "    </tr>\n",
       "    <tr>\n",
       "      <th>19</th>\n",
       "      <td>other melpomene</td>\n",
       "      <td>1.382655</td>\n",
       "      <td>1.478513</td>\n",
       "      <td>1.511459</td>\n",
       "      <td>1.542419</td>\n",
       "      <td>1.638277</td>\n",
       "      <td>heliconius_male_morphological</td>\n",
       "    </tr>\n",
       "    <tr>\n",
       "      <th>20</th>\n",
       "      <td>identity erato</td>\n",
       "      <td>0.061495</td>\n",
       "      <td>0.168927</td>\n",
       "      <td>0.209005</td>\n",
       "      <td>0.275464</td>\n",
       "      <td>0.435269</td>\n",
       "      <td>heliconius_female_morphological</td>\n",
       "    </tr>\n",
       "    <tr>\n",
       "      <th>21</th>\n",
       "      <td>identity melpomene</td>\n",
       "      <td>0.061495</td>\n",
       "      <td>0.168927</td>\n",
       "      <td>0.209005</td>\n",
       "      <td>0.275464</td>\n",
       "      <td>0.435269</td>\n",
       "      <td>heliconius_female_morphological</td>\n",
       "    </tr>\n",
       "    <tr>\n",
       "      <th>22</th>\n",
       "      <td>mimic</td>\n",
       "      <td>0.078733</td>\n",
       "      <td>0.173784</td>\n",
       "      <td>0.209390</td>\n",
       "      <td>0.278261</td>\n",
       "      <td>0.434972</td>\n",
       "      <td>heliconius_female_morphological</td>\n",
       "    </tr>\n",
       "    <tr>\n",
       "      <th>23</th>\n",
       "      <td>other erato</td>\n",
       "      <td>1.378399</td>\n",
       "      <td>1.481862</td>\n",
       "      <td>1.519147</td>\n",
       "      <td>1.550838</td>\n",
       "      <td>1.654301</td>\n",
       "      <td>heliconius_female_morphological</td>\n",
       "    </tr>\n",
       "    <tr>\n",
       "      <th>24</th>\n",
       "      <td>other melpomene</td>\n",
       "      <td>1.378399</td>\n",
       "      <td>1.481862</td>\n",
       "      <td>1.519147</td>\n",
       "      <td>1.550838</td>\n",
       "      <td>1.654301</td>\n",
       "      <td>heliconius_female_morphological</td>\n",
       "    </tr>\n",
       "    <tr>\n",
       "      <th>25</th>\n",
       "      <td>identity erato</td>\n",
       "      <td>0.063646</td>\n",
       "      <td>0.155709</td>\n",
       "      <td>0.196681</td>\n",
       "      <td>0.257411</td>\n",
       "      <td>0.409962</td>\n",
       "      <td>kingfisher</td>\n",
       "    </tr>\n",
       "    <tr>\n",
       "      <th>26</th>\n",
       "      <td>identity melpomene</td>\n",
       "      <td>0.063646</td>\n",
       "      <td>0.155709</td>\n",
       "      <td>0.196681</td>\n",
       "      <td>0.257411</td>\n",
       "      <td>0.409962</td>\n",
       "      <td>kingfisher</td>\n",
       "    </tr>\n",
       "    <tr>\n",
       "      <th>27</th>\n",
       "      <td>mimic</td>\n",
       "      <td>0.075647</td>\n",
       "      <td>0.164145</td>\n",
       "      <td>0.198685</td>\n",
       "      <td>0.251494</td>\n",
       "      <td>0.382513</td>\n",
       "      <td>kingfisher</td>\n",
       "    </tr>\n",
       "    <tr>\n",
       "      <th>28</th>\n",
       "      <td>other erato</td>\n",
       "      <td>1.410447</td>\n",
       "      <td>1.492654</td>\n",
       "      <td>1.522178</td>\n",
       "      <td>1.547459</td>\n",
       "      <td>1.629665</td>\n",
       "      <td>kingfisher</td>\n",
       "    </tr>\n",
       "    <tr>\n",
       "      <th>29</th>\n",
       "      <td>other melpomene</td>\n",
       "      <td>1.410447</td>\n",
       "      <td>1.492654</td>\n",
       "      <td>1.522178</td>\n",
       "      <td>1.547459</td>\n",
       "      <td>1.629665</td>\n",
       "      <td>kingfisher</td>\n",
       "    </tr>\n",
       "  </tbody>\n",
       "</table>\n",
       "</div>"
      ],
      "text/plain": [
       "                 label  lower_whisker  lower_quartile    median  \\\n",
       "0       identity erato       0.058335        0.159964  0.221770   \n",
       "1   identity melpomene       0.058335        0.159964  0.221770   \n",
       "2                mimic       0.074007        0.162489  0.216954   \n",
       "3          other erato       1.401236        1.496304  1.532930   \n",
       "4      other melpomene       1.401236        1.496304  1.532930   \n",
       "5       identity erato       0.034845        0.110745  0.137936   \n",
       "6   identity melpomene       0.034845        0.110745  0.137936   \n",
       "7                mimic       0.048258        0.110546  0.134477   \n",
       "8          other erato       1.416169        1.496803  1.527394   \n",
       "9      other melpomene       1.416169        1.496803  1.527394   \n",
       "10      identity erato       0.060407        0.138074  0.165232   \n",
       "11  identity melpomene       0.060407        0.138074  0.165232   \n",
       "12               mimic       0.069257        0.142028  0.167028   \n",
       "13         other erato       1.405744        1.485271  1.513025   \n",
       "14     other melpomene       1.405744        1.485271  1.513025   \n",
       "15      identity erato       0.060134        0.146100  0.173144   \n",
       "16  identity melpomene       0.060134        0.146100  0.173144   \n",
       "17               mimic       0.074803        0.148378  0.174365   \n",
       "18         other erato       1.382655        1.478513  1.511459   \n",
       "19     other melpomene       1.382655        1.478513  1.511459   \n",
       "20      identity erato       0.061495        0.168927  0.209005   \n",
       "21  identity melpomene       0.061495        0.168927  0.209005   \n",
       "22               mimic       0.078733        0.173784  0.209390   \n",
       "23         other erato       1.378399        1.481862  1.519147   \n",
       "24     other melpomene       1.378399        1.481862  1.519147   \n",
       "25      identity erato       0.063646        0.155709  0.196681   \n",
       "26  identity melpomene       0.063646        0.155709  0.196681   \n",
       "27               mimic       0.075647        0.164145  0.198685   \n",
       "28         other erato       1.410447        1.492654  1.522178   \n",
       "29     other melpomene       1.410447        1.492654  1.522178   \n",
       "\n",
       "    upper_quartile  upper_whisker                           acuity  \n",
       "0         0.315713       0.549336                        no_acuity  \n",
       "1         0.315713       0.549336                        no_acuity  \n",
       "2         0.305042       0.518869                        no_acuity  \n",
       "3         1.559682       1.654749                        no_acuity  \n",
       "4         1.559682       1.654749                        no_acuity  \n",
       "5         0.182467       0.290050       heliconius_male_behavioral  \n",
       "6         0.182467       0.290050       heliconius_male_behavioral  \n",
       "7         0.176905       0.276444       heliconius_male_behavioral  \n",
       "8         1.550559       1.631191       heliconius_male_behavioral  \n",
       "9         1.550559       1.631191       heliconius_male_behavioral  \n",
       "10        0.211462       0.321542     heliconius_female_behavioral  \n",
       "11        0.211462       0.321542     heliconius_female_behavioral  \n",
       "12        0.212258       0.317602     heliconius_female_behavioral  \n",
       "13        1.538289       1.617816     heliconius_female_behavioral  \n",
       "14        1.538289       1.617816     heliconius_female_behavioral  \n",
       "15        0.222220       0.336401    heliconius_male_morphological  \n",
       "16        0.222220       0.336401    heliconius_male_morphological  \n",
       "17        0.225719       0.341729    heliconius_male_morphological  \n",
       "18        1.542419       1.638277    heliconius_male_morphological  \n",
       "19        1.542419       1.638277    heliconius_male_morphological  \n",
       "20        0.275464       0.435269  heliconius_female_morphological  \n",
       "21        0.275464       0.435269  heliconius_female_morphological  \n",
       "22        0.278261       0.434972  heliconius_female_morphological  \n",
       "23        1.550838       1.654301  heliconius_female_morphological  \n",
       "24        1.550838       1.654301  heliconius_female_morphological  \n",
       "25        0.257411       0.409962                       kingfisher  \n",
       "26        0.257411       0.409962                       kingfisher  \n",
       "27        0.251494       0.382513                       kingfisher  \n",
       "28        1.547459       1.629665                       kingfisher  \n",
       "29        1.547459       1.629665                       kingfisher  "
      ]
     },
     "execution_count": 81,
     "metadata": {},
     "output_type": "execute_result"
    }
   ],
   "source": [
    "boxplot_df"
   ]
  },
  {
   "cell_type": "code",
   "execution_count": 85,
   "metadata": {},
   "outputs": [
    {
     "data": {
      "text/plain": [
       "'MelpomeneNet'"
      ]
     },
     "execution_count": 85,
     "metadata": {},
     "output_type": "execute_result"
    }
   ],
   "source": [
    "model_name"
   ]
  },
  {
   "cell_type": "markdown",
   "metadata": {
    "tags": []
   },
   "source": [
    "`MelpomeneNet Kingfisher Embeddings`: seeing a smaller variance and smaller mean embedding distance b/w comimics for kingfisher acuity is indicative of confusion of comimics by a bird predator\n",
    "\n",
    "`Other notes`:\n",
    "- The goal of the 'other' category being seperated by erato and melpomene is to showcase that mimics (erato-melpomene) are closer in the embedding space to each other than to members of its own species (ex. erato). "
   ]
  },
  {
   "cell_type": "code",
   "execution_count": 83,
   "metadata": {
    "tags": []
   },
   "outputs": [
    {
     "name": "stdout",
     "output_type": "stream",
     "text": [
      "/fs/ess/PAS2136/Butterfly/Model_Mimic/Figures/MelpomeneNet/\n"
     ]
    }
   ],
   "source": [
    "from src.dir_paths.figures_paths import get_figures_path\n",
    "plot_path = get_figures_path(acuity, model_name)\n",
    "plot_path = plot_path.replace(plot_path.split('/')[-1], \"\") #save to general folder since it uses all acuities\n",
    "print(plot_path)\n",
    "# # fig.savefig(plot_path+\"embedding_distances_boxplot_eratonet_kingfisher.png\", bbox_inches=\"tight\") \n",
    "# fig.savefig(plot_path+\"embedding_distances_boxplot.png\", bbox_inches=\"tight\") "
   ]
  },
  {
   "cell_type": "code",
   "execution_count": 84,
   "metadata": {
    "tags": []
   },
   "outputs": [],
   "source": [
    "# get_boxplot_separate(original, data, labels, subspecies, ax=axs[0,0])\n",
    "# get_boxplot_separate(same, data, labels, subspecies, ax=axs[0,1])\n",
    "# get_boxplot_separate(nonmimic, data, labels, subspecies, ax=axs[0,2])\n",
    "# get_boxplot_separate(comimic, data, labels, subspecies, ax=axs[0,3])\n",
    "# get_boxplot_separate(negative, test_loader, labels, subspecies, ax=axs[1,0], negative=True)\n",
    "# get_boxplot_separate(mimetic, data_s, labels_s, subspecies_s, ax=axs[1,1])\n",
    "# get_boxplot_separate(erato, data, labels, subspecies, ax=axs[1,2])\n",
    "# get_boxplot_separate(melpomene, data, labels, subspecies, ax=axs[1,3])\n",
    "\n",
    "# axs[0,0].set_title('ButterflyNet', fontsize=30)\n",
    "# axs[0,1].set_title('SpeciesNet', fontsize=30)\n",
    "# axs[0,2].set_title('NonmimicNet', fontsize=30)\n",
    "# axs[0,3].set_title('ComimicNet', fontsize=30)\n",
    "# axs[1,0].set_title('NegativeNet', fontsize=30)\n",
    "# axs[1,1].set_title('MimicryLabelsNet', fontsize=30)\n",
    "# axs[1,2].set_title('EratoNet', fontsize=30)\n",
    "# axs[1,3].set_title('MelpomeneNet', fontsize=30)"
   ]
  }
 ],
 "metadata": {
  "accelerator": "GPU",
  "colab": {
   "gpuType": "A100",
   "provenance": []
  },
  "gpuClass": "standard",
  "kernelspec": {
   "display_name": "Python 3",
   "language": "python",
   "name": "python3"
  },
  "language_info": {
   "codemirror_mode": {
    "name": "ipython",
    "version": 3
   },
   "file_extension": ".py",
   "mimetype": "text/x-python",
   "name": "python",
   "nbconvert_exporter": "python",
   "pygments_lexer": "ipython3",
   "version": "3.8.13"
  }
 },
 "nbformat": 4,
 "nbformat_minor": 4
}
